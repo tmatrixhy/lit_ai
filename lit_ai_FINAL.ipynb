{
  "nbformat": 4,
  "nbformat_minor": 0,
  "metadata": {
    "colab": {
      "name": "2020.5.1-Literature_in_the_age_of_Aritficial_Intelligence_-_FINAL",
      "provenance": [],
      "collapsed_sections": [],
      "toc_visible": true,
      "machine_shape": "hm"
    },
    "kernelspec": {
      "name": "python3",
      "display_name": "Python 3"
    },
    "accelerator": "GPU"
  },
  "cells": [
    {
      "cell_type": "markdown",
      "metadata": {
        "id": "gd9D_IZmH2Qa",
        "colab_type": "text"
      },
      "source": [
        "# LITERATURE IN THE AGE OF ARTIFICIAL INTELLIGENCE FINAL\n",
        "\n",
        "1. All references listed in cells where they are used."
      ]
    },
    {
      "cell_type": "markdown",
      "metadata": {
        "id": "LxZ5GxCSIIX_",
        "colab_type": "text"
      },
      "source": [
        "# Dependencies"
      ]
    },
    {
      "cell_type": "code",
      "metadata": {
        "id": "oaIG3jzXHqGW",
        "colab_type": "code",
        "outputId": "aef19100-5426-457c-9249-342ad9e91ab5",
        "colab": {
          "base_uri": "https://localhost:8080/",
          "height": 887
        }
      },
      "source": [
        "# https://github.com/tensorflow/agents/blob/master/docs/tutorials/2_environments_tutorial.ipynb\n",
        "\n",
        "!pip install tf-agents\n",
        "!pip install 'gym==0.10.11'\n",
        "!pip install fake-useragent\n",
        "\n",
        "import abc\n",
        "import tensorflow as tf\n",
        "import numpy as np\n",
        "import random\n",
        "import time\n",
        "import requests\n",
        "from bs4 import BeautifulSoup\n",
        "from fake_useragent import UserAgent\n",
        "\n",
        "from tf_agents.environments import py_environment\n",
        "from tf_agents.environments import tf_environment\n",
        "from tf_agents.environments import tf_py_environment\n",
        "from tf_agents.environments import utils\n",
        "from tf_agents.specs import array_spec\n",
        "from tf_agents.environments import wrappers\n",
        "from tf_agents.environments import suite_gym\n",
        "from tf_agents.trajectories import time_step as ts\n",
        "\n",
        "tf.compat.v1.enable_v2_behavior()"
      ],
      "execution_count": 1,
      "outputs": [
        {
          "output_type": "stream",
          "text": [
            "Collecting tf-agents\n",
            "\u001b[?25l  Downloading https://files.pythonhosted.org/packages/88/5c/d49f8de64408a7d67ddda09c9eeb0f2fb001c43ff945b3462db27d239b56/tf_agents-0.4.0-py3-none-any.whl (903kB)\n",
            "\u001b[K     |████████████████████████████████| 911kB 2.8MB/s \n",
            "\u001b[?25hRequirement already satisfied: tensorflow-probability>=0.8.0 in /usr/local/lib/python3.6/dist-packages (from tf-agents) (0.10.0rc0)\n",
            "Requirement already satisfied: six>=1.10.0 in /usr/local/lib/python3.6/dist-packages (from tf-agents) (1.12.0)\n",
            "Requirement already satisfied: numpy>=1.13.3 in /usr/local/lib/python3.6/dist-packages (from tf-agents) (1.18.4)\n",
            "Collecting gin-config==0.1.3\n",
            "\u001b[?25l  Downloading https://files.pythonhosted.org/packages/8c/be/c984b1c8a7ba1c385b32bf39c7a225cd9f713d49705898309d01b60fd0e7/gin_config-0.1.3-py3-none-any.whl (43kB)\n",
            "\u001b[K     |████████████████████████████████| 51kB 6.4MB/s \n",
            "\u001b[?25hRequirement already satisfied: absl-py>=0.6.1 in /usr/local/lib/python3.6/dist-packages (from tf-agents) (0.9.0)\n",
            "Requirement already satisfied: gast>=0.3.2 in /usr/local/lib/python3.6/dist-packages (from tensorflow-probability>=0.8.0->tf-agents) (0.3.3)\n",
            "Requirement already satisfied: decorator in /usr/local/lib/python3.6/dist-packages (from tensorflow-probability>=0.8.0->tf-agents) (4.4.2)\n",
            "Requirement already satisfied: cloudpickle>=1.2.2 in /usr/local/lib/python3.6/dist-packages (from tensorflow-probability>=0.8.0->tf-agents) (1.3.0)\n",
            "Installing collected packages: gin-config, tf-agents\n",
            "  Found existing installation: gin-config 0.3.0\n",
            "    Uninstalling gin-config-0.3.0:\n",
            "      Successfully uninstalled gin-config-0.3.0\n",
            "Successfully installed gin-config-0.1.3 tf-agents-0.4.0\n",
            "Collecting gym==0.10.11\n",
            "\u001b[?25l  Downloading https://files.pythonhosted.org/packages/87/04/70d4901b7105082c9742acd64728342f6da7cd471572fd0660a73f9cfe27/gym-0.10.11.tar.gz (1.5MB)\n",
            "\u001b[K     |████████████████████████████████| 1.5MB 2.7MB/s \n",
            "\u001b[?25hRequirement already satisfied: scipy in /usr/local/lib/python3.6/dist-packages (from gym==0.10.11) (1.4.1)\n",
            "Requirement already satisfied: numpy>=1.10.4 in /usr/local/lib/python3.6/dist-packages (from gym==0.10.11) (1.18.4)\n",
            "Requirement already satisfied: requests>=2.0 in /usr/local/lib/python3.6/dist-packages (from gym==0.10.11) (2.23.0)\n",
            "Requirement already satisfied: six in /usr/local/lib/python3.6/dist-packages (from gym==0.10.11) (1.12.0)\n",
            "Requirement already satisfied: pyglet>=1.2.0 in /usr/local/lib/python3.6/dist-packages (from gym==0.10.11) (1.5.0)\n",
            "Requirement already satisfied: idna<3,>=2.5 in /usr/local/lib/python3.6/dist-packages (from requests>=2.0->gym==0.10.11) (2.9)\n",
            "Requirement already satisfied: chardet<4,>=3.0.2 in /usr/local/lib/python3.6/dist-packages (from requests>=2.0->gym==0.10.11) (3.0.4)\n",
            "Requirement already satisfied: certifi>=2017.4.17 in /usr/local/lib/python3.6/dist-packages (from requests>=2.0->gym==0.10.11) (2020.4.5.1)\n",
            "Requirement already satisfied: urllib3!=1.25.0,!=1.25.1,<1.26,>=1.21.1 in /usr/local/lib/python3.6/dist-packages (from requests>=2.0->gym==0.10.11) (1.24.3)\n",
            "Requirement already satisfied: future in /usr/local/lib/python3.6/dist-packages (from pyglet>=1.2.0->gym==0.10.11) (0.16.0)\n",
            "Building wheels for collected packages: gym\n",
            "  Building wheel for gym (setup.py) ... \u001b[?25l\u001b[?25hdone\n",
            "  Created wheel for gym: filename=gym-0.10.11-cp36-none-any.whl size=1588313 sha256=72e2dfe99578ae2bfdaa4c6db7bf3a1670555b9eb1e1e6835ab5a939642d9a6f\n",
            "  Stored in directory: /root/.cache/pip/wheels/7b/eb/1f/22c4124f3c64943aa0646daf4612b1c1f00f27d89b81304ebd\n",
            "Successfully built gym\n",
            "Installing collected packages: gym\n",
            "  Found existing installation: gym 0.17.1\n",
            "    Uninstalling gym-0.17.1:\n",
            "      Successfully uninstalled gym-0.17.1\n",
            "Successfully installed gym-0.10.11\n",
            "Collecting fake-useragent\n",
            "  Downloading https://files.pythonhosted.org/packages/d1/79/af647635d6968e2deb57a208d309f6069d31cb138066d7e821e575112a80/fake-useragent-0.1.11.tar.gz\n",
            "Building wheels for collected packages: fake-useragent\n",
            "  Building wheel for fake-useragent (setup.py) ... \u001b[?25l\u001b[?25hdone\n",
            "  Created wheel for fake-useragent: filename=fake_useragent-0.1.11-cp36-none-any.whl size=13484 sha256=67f4869535c2ca80ade177627a0aafc3ab699c8aa5ced39596382c234e275a4d\n",
            "  Stored in directory: /root/.cache/pip/wheels/5e/63/09/d1dc15179f175357d3f5c00cbffbac37f9e8690d80545143ff\n",
            "Successfully built fake-useragent\n",
            "Installing collected packages: fake-useragent\n",
            "Successfully installed fake-useragent-0.1.11\n"
          ],
          "name": "stdout"
        }
      ]
    },
    {
      "cell_type": "markdown",
      "metadata": {
        "id": "blEsYNNJILZG",
        "colab_type": "text"
      },
      "source": [
        "# Environment Setup"
      ]
    },
    {
      "cell_type": "code",
      "metadata": {
        "id": "XhRQZsjQUewA",
        "colab_type": "code",
        "colab": {}
      },
      "source": [
        "'''\n",
        "    # The poem as three arrays representing the following:\n",
        "    # The poem consists of 12 sentences.\n",
        "    \n",
        "    first_word : a 1-d array where the index corresponds to the (sentence number - 1). The value of first_word[10] is 'Lest' from the 11th sentence.\n",
        "    second_word : a 2-d array where the first index corresponds to the (sentence number - 1).\n",
        "                                    the second index corresponds to one of (x-1) number of words that can be selected in that sentence.\n",
        "                                    The value of second_word[10][4] is the 5th word (' Mind ') of the 11th sentence.\n",
        "    third_word : a 1-d array where the index corresponds to the (sentence number - 1). The value of third_word[10] is 'Be Destroyed from the 11th sentence.\n",
        "\n",
        "    note : Ending of 7th line has been changed from 'and g-d' to 'and god'\n",
        "'''\n",
        "first_word = ['from', 'come', 'from', 'come', 'the', 'love', 'the', 'seek', 'what', 'with', 'lest', 'where']\n",
        "\n",
        "second_word = [\n",
        "            [' night ', ' fog ', ' clash ', ' frost ', ' wind ', ' sea ', ' heat ', ' south ', ' east ', ' west ', ' north ', ' sun ', ' fire '],\n",
        "            [' day ', ' blaze ', ' bloom ', ' snow ', ' peace ', ' land ', ' flash ', ' warmth ', ' heat ', ' joy ', ' cool ', ' light ', ' flames '],\n",
        "            [' ache ', ' pain ', ' shame ', ' fear ', ' war ', ' oh ', ' cross ', ' stress ', ' scorn ', ' hurt ', ' shock ', ' guile ', ' scold '],\n",
        "            [' joy ', ' charm ', ' fame ', ' ease ', ' wins ', ' truce ', ' gains ', ' peace ', ' jokes ', ' games ', ' rest ', ' mild '],\n",
        "\n",
        "            [' moon ', ' beam ', ' smoke ', ' buck ', ' fish ', ' gold ', ' pearl ', ' tree ', ' flame ', ' stork ', ' frog ', ' lamb ox ', ' all '],\n",
        "            [' sheen ', ' straw ', ' steam ', ' peak ', ' flood ', ' glow ', ' foam ', ' fruit ', ' ash ', ' roof ', ' pool ', ' field ', ' wheat '],\n",
        "            [' guard ', ' man ', ' work ', ' strain ', ' art ', ' play ', ' ship ', ' mouth ', ' prince ', ' rage ', ' care ', ' greed ', ' faith '],\n",
        "            [' goal ', ' sleep ', ' praise ', ' prize ', ' luck ', ' strife ', ' port ', ' kiss ', ' throne ', ' death ', ' shroud ', ' gold ', ' thanks '],\n",
        "\n",
        "            [' good ', ' strong ', ' hard ', ' right ', ' long ', ' great ', ' white ', ' one ', ' yea ', ' air ', ' fire ', ' high wide ', ' should '],\n",
        "            [' care ', ' bad ', ' weak ', ' plain ', ' bent ', ' broad ', ' small ', ' black ', ' three ', ' nay ', ' earth ', ' flood ', ' deep '],\n",
        "            [' pluck ', ' love ', ' wise ', ' wit ', ' mind ', ' soul ', ' friend ', ' joy ', ' grace ', ' fame ', ' peace ', ' play ', ' praise '],\n",
        "            [' fear ', ' hate ', ' lies ', ' wine ', ' meat ', ' flesh ', ' foe ', ' woe ', ' shame ', ' angst ', ' strife ', ' pain ', ' rule ']\n",
        "         ]\n",
        "\n",
        "third_word = ['and plagues', 'and dread', 'and fraud', 'morning rays', 'at play', 'and bread', 'and god', 'to say', 'be named', 'to avoid', 'be destroyed', 'the day']"
      ],
      "execution_count": 0,
      "outputs": []
    },
    {
      "cell_type": "code",
      "metadata": {
        "id": "zdTqEy_jahf_",
        "colab_type": "code",
        "outputId": "fc8a4422-bae1-4ea1-f475-9cae390ae85e",
        "colab": {
          "base_uri": "https://localhost:8080/",
          "height": 238
        }
      },
      "source": [
        "# Quick Test to ensure embedding is loaded.\n",
        "\n",
        "select = []\n",
        "\n",
        "for x in range(len(first_word)):\n",
        "  random.seed()\n",
        "\n",
        "  selection = random.randint(0,len(second_word[x])-1)\n",
        "  select.append(selection)\n",
        "\n",
        "  search_term = first_word[x] + second_word[x][selection] + third_word[x]\n",
        "  print(search_term)\n",
        "\n",
        "print (select)"
      ],
      "execution_count": 4,
      "outputs": [
        {
          "output_type": "stream",
          "text": [
            "from fog and plagues\n",
            "come blaze and dread\n",
            "from pain and fraud\n",
            "come joy morning rays\n",
            "the fish at play\n",
            "love sheen and bread\n",
            "the greed and god\n",
            "seek shroud to say\n",
            "what one be named\n",
            "with earth to avoid\n",
            "lest friend be destroyed\n",
            "where meat the day\n",
            "[1, 1, 1, 0, 4, 0, 11, 10, 7, 10, 6, 4]\n"
          ],
          "name": "stdout"
        }
      ]
    },
    {
      "cell_type": "code",
      "metadata": {
        "id": "d7R9g_V8bqza",
        "colab_type": "code",
        "colab": {}
      },
      "source": [
        "'''\n",
        "USED TO RETURN GOOGLE SEARCH TOTALS\n",
        "'''\n",
        "def pyGoogleSearch(word,agent):\n",
        "    header = {'User-Agent':str(agent.chrome)}\n",
        "    address = 'http://www.google.com/search?q='\n",
        "    newword = address + word\n",
        "    page = requests.get(newword, headers=header)\n",
        "    soup = BeautifulSoup(page.content, 'html.parser')\n",
        "    res = soup.find(\"div\", {\"id\": \"result-stats\"})\n",
        "    try:\n",
        "      final = res.text.replace(\",\", \"\").split()[1]\n",
        "      final = int(final)\n",
        "      return final\n",
        "    except:\n",
        "      return 0"
      ],
      "execution_count": 0,
      "outputs": []
    },
    {
      "cell_type": "code",
      "metadata": {
        "id": "63n27J2SJaY1",
        "colab_type": "code",
        "colab": {}
      },
      "source": [
        "'''\n",
        "TEST AREA PRIOR TO DEVELOPMENT OF REINFORCEMENT LEARNING ENVIRONMENT\n",
        "'''\n",
        "ua = UserAgent()\n",
        "\n",
        "# \n",
        "sec_word_array = []\n",
        "scores = []\n",
        "reward = 0\n",
        "\n",
        "for x in range(len(first_word)):\n",
        "  random.seed()\n",
        "\n",
        "  # Load search term\n",
        "  selection = random.randint(0,len(second_word[x])-1)\n",
        "  sec_word_array.append(selection)\n",
        "  search_term = \"\\\"\" +  first_word[x] + second_word[x][selection] + third_word[x] + \"\\\"\"\n",
        "\n",
        "  # return results for searching line\n",
        "  score = pyGoogleSearch(search_term, ua)\n",
        "  scores.append(score)\n",
        "  \n",
        "  # add total number of results\n",
        "  reward += score\n",
        "  print(\"Search Term: %s -- Results: %d\" %(search_term, score))\n",
        "\n",
        "print( sec_word_array )\n",
        "print( scores )\n",
        "print( reward )"
      ],
      "execution_count": 0,
      "outputs": []
    },
    {
      "cell_type": "code",
      "metadata": {
        "id": "Vj_frytnIEpF",
        "colab_type": "code",
        "colab": {}
      },
      "source": [
        "'''\n",
        "INITIAL REINFORCEMENT LEARNING ENVIRONMENT\n",
        "'''\n",
        "\n",
        "class Kuhlmann(py_environment.PyEnvironment):\n",
        "\n",
        "  def __init__(self):\n",
        "    self._action_spec = array_spec.BoundedArraySpec(\n",
        "        shape=(), dtype=np.int32, minimum=0, maximum=1, name='action')\n",
        "    self._observation_spec = array_spec.BoundedArraySpec(\n",
        "        shape=(2,10), dtype=np.int32, minimum=0, name='observation')\n",
        "    self._state = array_spec.BoundedArraySpec(\n",
        "        shape=(2,10), dtype=np.int32, minimum=0, name='state')\n",
        "    self._episode_ended = False\n",
        "    self.ua = UserAgent()\n",
        "  \n",
        "  def action_spec(self):\n",
        "    return self._action_spec\n",
        "\n",
        "  def observation_spec(self):\n",
        "    return self._observation_spec\n",
        "\n",
        "  def _reset(self):\n",
        "    self._state = 0\n",
        "    self._episode_ended = False\n",
        "    return ts.restart(np.array([self._state], dtype=np.int32))\n",
        "\n",
        "  def _step(self, action):\n",
        "    if self._episode_ended:\n",
        "      # The last action ended the episode. Ignore the current action and start\n",
        "      # a new episode.\n",
        "      return self.reset()\n",
        "\n",
        "    # Make sure episodes don't go on forever.\n",
        "    if action == 1:\n",
        "      self._episode_ended = True\n",
        "    elif action == 0:\n",
        "      #generate poem\n",
        "      sec_word_array = []\n",
        "      scores = []\n",
        "      total_reward = 0\n",
        "\n",
        "      for x in range(len(first_word)):\n",
        "        random.seed()\n",
        "\n",
        "        # Load search term\n",
        "        selection = random.randint(0,len(second_word[x])-1)\n",
        "        sec_word_array.append(selection)\n",
        "        search_term = \"\\\"\" +  first_word[x] + second_word[x][selection] + third_word[x] + \"\\\"\"\n",
        "\n",
        "        # return results for searching line\n",
        "        score = pyGoogleSearch(search_term, self.ua)\n",
        "        scores.append(score)\n",
        "        \n",
        "        # add total number of results\n",
        "        total_reward += score\n",
        "        print(\"Search Term: %s -- Results: %d\" %(search_term, score))\n",
        "\n",
        "      print( sec_word_array )\n",
        "      print( scores )\n",
        "      print( total_reward )\n",
        "      \n",
        "      self._state = [sec_word_array, scores]\n",
        "    else:\n",
        "      raise ValueError('`action` should be 0 or 1.')\n",
        "\n",
        "    if self._episode_ended:\n",
        "      reward = total_reward\n",
        "      return ts.termination(np.array([self._state], dtype=np.int32), reward)\n",
        "    else:\n",
        "      return ts.transition(\n",
        "          np.array([self._state], dtype=np.int32), reward=0.0, discount=1.0)"
      ],
      "execution_count": 0,
      "outputs": []
    },
    {
      "cell_type": "code",
      "metadata": {
        "id": "oLojTQW5JW2I",
        "colab_type": "code",
        "colab": {}
      },
      "source": [
        "'''\n",
        "FOR TESTING PURPOSES\n",
        "'''\n",
        "environment = Kuhlmann()\n",
        "utils.validate_py_environment(environment, episodes=5)"
      ],
      "execution_count": 0,
      "outputs": []
    },
    {
      "cell_type": "code",
      "metadata": {
        "id": "dDBRbnuBJYsc",
        "colab_type": "code",
        "outputId": "b7323bc9-f831-4e39-8c21-705786068263",
        "colab": {
          "base_uri": "https://localhost:8080/",
          "height": 173
        }
      },
      "source": [
        "'''\n",
        "FOR TESTING PURPOSES\n",
        "'''\n",
        "\n",
        "generate_poem = np.array(0, dtype=np.int32)\n",
        "record_stats = np.array(1, dtype=np.int32)\n",
        "\n",
        "environment = Kuhlmann()\n",
        "time_step = environment.reset()\n",
        "print(time_step)\n",
        "cumulative_reward = time_step.reward\n",
        "\n",
        "for _ in range(5):\n",
        "  time_step = environment.step(generate_poem)\n",
        "  print(time_step)\n",
        "  cumulative_reward += time_step.reward\n",
        "\n",
        "time_step = environment.step(record_stats)\n",
        "print(time_step)\n",
        "cumulative_reward += time_step.reward\n",
        "print('Final Reward = ', cumulative_reward)"
      ],
      "execution_count": 8,
      "outputs": [
        {
          "output_type": "stream",
          "text": [
            "TimeStep(step_type=array(0, dtype=int32), reward=array(0., dtype=float32), discount=array(1., dtype=float32), observation=array([0], dtype=int32))\n",
            "TimeStep(step_type=array(1, dtype=int32), reward=array(0., dtype=float32), discount=array(1., dtype=float32), observation=array([9], dtype=int32))\n",
            "TimeStep(step_type=array(1, dtype=int32), reward=array(0., dtype=float32), discount=array(1., dtype=float32), observation=array([11], dtype=int32))\n",
            "TimeStep(step_type=array(1, dtype=int32), reward=array(0., dtype=float32), discount=array(1., dtype=float32), observation=array([15], dtype=int32))\n",
            "TimeStep(step_type=array(1, dtype=int32), reward=array(0., dtype=float32), discount=array(1., dtype=float32), observation=array([17], dtype=int32))\n",
            "TimeStep(step_type=array(2, dtype=int32), reward=array(-21., dtype=float32), discount=array(0., dtype=float32), observation=array([26], dtype=int32))\n",
            "TimeStep(step_type=array(2, dtype=int32), reward=array(-21., dtype=float32), discount=array(0., dtype=float32), observation=array([26], dtype=int32))\n",
            "Final Reward =  -42.0\n"
          ],
          "name": "stdout"
        }
      ]
    },
    {
      "cell_type": "markdown",
      "metadata": {
        "id": "yU7cVURhtPeY",
        "colab_type": "text"
      },
      "source": [
        "# MANUAL TESTING\n",
        "\n",
        "This section was created after manually obtaining total search results.\n"
      ]
    },
    {
      "cell_type": "code",
      "metadata": {
        "id": "crpHU2q-tUjT",
        "colab_type": "code",
        "colab": {
          "base_uri": "https://localhost:8080/",
          "height": 34
        },
        "outputId": "f36cfff3-778a-4f58-80f5-6e23e3ecce55"
      },
      "source": [
        "google_results = [\n",
        "                  [0,0,0,1,0,0,0,0,0,0,0,0,10],\n",
        "                  [0,0,0,0,0,0,0,0,0,0,0,0,0],\n",
        "                  [0,1,0,24500,5,5,0,1,0,0,0,4,0],\n",
        "                  [0,0,0,0,0,0,0,0,0,0,0,0,0],\n",
        "                  [27800,0,1,1,22400,0,2,38100,1,6,6,0,3],\n",
        "                  [0,0,0,0,0,0,0,15900,0,0,0,0,5],\n",
        "                  [121000,6710000,6840000,56300,2080000,289000,308000,2,278000,86000,7,46100,6290000],\n",
        "                  [0,0,1,0,0,0,0,0,0,0,0,0,0],\n",
        "                  [0,0,0,0,0,0,0,0,0,0,0,0,1550000],\n",
        "                  [4980000,4,0,19000,0,1,0,389000,4,1,194000,1,4],\n",
        "                  [0,0,0,0,0,0,0,0,0,0,3,0,0],\n",
        "                  [1,0,0,0,0,0,1,1,0,0,0,0,0]\n",
        "                  ]\n",
        "np_arr = np.array(google_results)\n",
        "np_arr.shape"
      ],
      "execution_count": 51,
      "outputs": [
        {
          "output_type": "execute_result",
          "data": {
            "text/plain": [
              "(12, 13)"
            ]
          },
          "metadata": {
            "tags": []
          },
          "execution_count": 51
        }
      ]
    },
    {
      "cell_type": "code",
      "metadata": {
        "id": "CoYNyZ_enlWT",
        "colab_type": "code",
        "colab": {}
      },
      "source": [
        "def reconstruct(second_word_array):\n",
        "  for index, val in enumerate(second_word_array):\n",
        "    if index % 4 == 0:\n",
        "      print(\" \")\n",
        "    print(first_word[index]+second_word[index][val]+third_word[index])\n",
        "  \n",
        "  print (\" \")\n",
        "  print (\"all things do change; all things do love; all things are locked in hate\")\n",
        "  if np.sum(second_word_array) % 2 == 0:\n",
        "    print('whoever fully thinks this through holds the key to man\\'s estate')\n",
        "  else:\n",
        "    print('holds the key to man\\'s estate whoever fully thinks this through')\n"
      ],
      "execution_count": 0,
      "outputs": []
    },
    {
      "cell_type": "code",
      "metadata": {
        "id": "_N7MkH6boDky",
        "colab_type": "code",
        "outputId": "16a0f108-c632-4b3f-d3b0-2efa5386b82e",
        "colab": {
          "base_uri": "https://localhost:8080/",
          "height": 340
        }
      },
      "source": [
        "'''\n",
        "  SET RESULTS THRESHOLD BY ALTERING FIRST VARIABLE 'threshold' BELOW.\n",
        "'''\n",
        "\n",
        "threshold = 0\n",
        "\n",
        "max_val_output = []\n",
        "np_gr = np.array(google_results)\n",
        "for row in np_gr:\n",
        "  random.seed()\n",
        "  selection = random.randint(0,len(second_word[x])-1)\n",
        "  if row.sum() > threshold:\n",
        "    max_val_output.append(row.argmax(axis=0))\n",
        "  else:\n",
        "    max_val_output.append(selection)\n",
        "\n",
        "reconstruct(max_val_output)\n",
        "print(max_val_output)"
      ],
      "execution_count": 55,
      "outputs": [
        {
          "output_type": "stream",
          "text": [
            " \n",
            "from sun and plagues\n",
            "come warmth and dread\n",
            "from fear and fraud\n",
            "come charm morning rays\n",
            " \n",
            "the tree at play\n",
            "love fruit and bread\n",
            "the work and god\n",
            "seek kiss to say\n",
            " \n",
            "what should be named\n",
            "with care to avoid\n",
            "lest love be destroyed\n",
            "where wine the day\n",
            " \n",
            "all things do change; all things do love; all things are locked in hate\n",
            "holds the key to man's estate whoever fully thinks this through\n",
            "[11, 7, 3, 1, 7, 7, 2, 7, 12, 0, 1, 3]\n"
          ],
          "name": "stdout"
        }
      ]
    }
  ]
}